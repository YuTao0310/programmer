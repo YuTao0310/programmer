{
 "cells": [
  {
   "cell_type": "code",
   "execution_count": 1,
   "metadata": {},
   "outputs": [],
   "source": [
    "import torch\n",
    "import torchvision\n",
    "\n",
    "from torch.utils.data import DataLoader\n",
    "from torchvision import datasets\n",
    "from torchvision import transforms\n",
    "\n",
    "from torch import nn\n",
    "\n",
    "from torch import optim"
   ]
  },
  {
   "cell_type": "code",
   "execution_count": 2,
   "metadata": {},
   "outputs": [
    {
     "name": "stdout",
     "output_type": "stream",
     "text": [
      "Files already downloaded and verified\n",
      "Files already downloaded and verified\n"
     ]
    }
   ],
   "source": [
    "transform = transforms.Compose(\n",
    "    [transforms.ToTensor(),\n",
    "    transforms.Normalize((0.5, 0.5, 0.5), (0.5, 0.5, 0.5))]\n",
    ")\n",
    "\n",
    "train_data = datasets.CIFAR10(\n",
    "    root = \"./data\",\n",
    "    train = True,\n",
    "    transform = transform,\n",
    "    download = True\n",
    ")\n",
    "\n",
    "test_data = datasets.CIFAR10(\n",
    "    root = \"./data\", \n",
    "    train = False,\n",
    "    transform = transform, \n",
    "    download  = True\n",
    ")\n",
    "\n",
    "batch_size = 4\n",
    "trainloader = DataLoader(train_data, batch_size, shuffle = False, num_workers = 0)\n",
    "testloader = DataLoader(test_data, batch_size, shuffle = False, num_workers = 0)"
   ]
  },
  {
   "cell_type": "code",
   "execution_count": 3,
   "metadata": {},
   "outputs": [
    {
     "name": "stdout",
     "output_type": "stream",
     "text": [
      "imput:[B, C, H, W] torch.Size([4, 3, 32, 32])\n",
      "output: torch.Size([4])\n"
     ]
    }
   ],
   "source": [
    "dataiter = iter(testloader)\n",
    "image, label = dataiter.next()\n",
    "print(f\"imput:[B, C, H, W] {image.size()}\")\n",
    "print(f\"output: {label.size()}\")"
   ]
  },
  {
   "cell_type": "code",
   "execution_count": 4,
   "metadata": {},
   "outputs": [
    {
     "name": "stdout",
     "output_type": "stream",
     "text": [
      "Net(\n",
      "  (conv_relu_maxpool_fc): Sequential(\n",
      "    (0): Conv2d(3, 6, kernel_size=(5, 5), stride=(1, 1))\n",
      "    (1): ReLU()\n",
      "    (2): MaxPool2d(kernel_size=(2, 2), stride=(2, 2), padding=0, dilation=1, ceil_mode=False)\n",
      "    (3): Conv2d(6, 16, kernel_size=(5, 5), stride=(1, 1))\n",
      "    (4): ReLU()\n",
      "    (5): MaxPool2d(kernel_size=(2, 2), stride=(2, 2), padding=0, dilation=1, ceil_mode=False)\n",
      "    (6): Flatten(start_dim=1, end_dim=-1)\n",
      "    (7): Linear(in_features=400, out_features=120, bias=True)\n",
      "    (8): ReLU()\n",
      "    (9): Linear(in_features=120, out_features=84, bias=True)\n",
      "    (10): ReLU()\n",
      "    (11): Linear(in_features=84, out_features=10, bias=True)\n",
      "  )\n",
      ")\n",
      "para0: torch.Size([6, 3, 5, 5])\n",
      "para1: torch.Size([6])\n",
      "para2: torch.Size([16, 6, 5, 5])\n",
      "para3: torch.Size([16])\n",
      "para4: torch.Size([120, 400])\n",
      "para5: torch.Size([120])\n",
      "para6: torch.Size([84, 120])\n",
      "para7: torch.Size([84])\n",
      "para8: torch.Size([10, 84])\n",
      "para9: torch.Size([10])\n"
     ]
    }
   ],
   "source": [
    "class Net(nn.Module):\n",
    "    def __init__(self):\n",
    "        super().__init__()\n",
    "        self.conv_relu_maxpool_fc = nn.Sequential(\n",
    "            nn.Conv2d(3, 6, 5),\n",
    "            nn.ReLU(),\n",
    "            nn.MaxPool2d((2, 2)),\n",
    "            nn.Conv2d(6, 16, 5),\n",
    "            nn.ReLU(),\n",
    "            nn.MaxPool2d((2,2)),\n",
    "            nn.Flatten(start_dim = 1),\n",
    "            nn.Linear(16 * 5 * 5, 120),\n",
    "            nn.ReLU(),\n",
    "            nn.Linear(120, 84),\n",
    "            nn.ReLU(),\n",
    "            nn.Linear(84, 10),\n",
    "        )\n",
    "    def forward(self, x):\n",
    "        return self.conv_relu_maxpool_fc(x)\n",
    "\n",
    "net = Net()\n",
    "print(net)\n",
    "i = 0\n",
    "for para in net.parameters():\n",
    "    print(f\"para{i}: {para.size()}\")\n",
    "    i = i + 1"
   ]
  },
  {
   "cell_type": "code",
   "execution_count": 7,
   "metadata": {},
   "outputs": [
    {
     "name": "stdout",
     "output_type": "stream",
     "text": [
      "device is cpu\n"
     ]
    }
   ],
   "source": [
    "device = \"cuda\" if torch.cuda.is_available() else \"cpu\"\n",
    "print(f\"device is {device}\")\n",
    "\n",
    "net = net.to(device)"
   ]
  },
  {
   "cell_type": "code",
   "execution_count": 8,
   "metadata": {},
   "outputs": [
    {
     "name": "stdout",
     "output_type": "stream",
     "text": [
      "trainloder共有50000组数据\n",
      "trainloder的每个batch有12500组数据\n",
      "input的size为：torch.Size([4, 3, 32, 32]), output的size为：torch.Size([4])\n"
     ]
    }
   ],
   "source": [
    "print(f\"trainloder共有{len(trainloader.dataset)}组数据\")\n",
    "print(f\"trainloder的每个batch有{len(trainloader)}组数据\")\n",
    "dataiter = iter(trainloader)\n",
    "input, output = dataiter.next()\n",
    "print(f\"input的size为：{input.size()}, output的size为：{output.size()}\")"
   ]
  },
  {
   "cell_type": "code",
   "execution_count": 9,
   "metadata": {},
   "outputs": [
    {
     "name": "stdout",
     "output_type": "stream",
     "text": [
      "Epoch1\n",
      "--------------------------------\n",
      "loss: 2.240343  [ 8000/50000]\n",
      "loss: 1.924404  [16000/50000]\n",
      "loss: 1.681116  [24000/50000]\n",
      "loss: 1.560773  [32000/50000]\n",
      "loss: 1.546951  [40000/50000]\n",
      "loss: 1.489432  [48000/50000]\n",
      "Accuracy:  46.7%, Avg loss: 1.45188936\n",
      "Epoch2\n",
      "--------------------------------\n",
      "loss: 1.438400  [ 8000/50000]\n",
      "loss: 1.413015  [16000/50000]\n",
      "loss: 1.364118  [24000/50000]\n",
      "loss: 1.319360  [32000/50000]\n",
      "loss: 1.342344  [40000/50000]\n",
      "loss: 1.292275  [48000/50000]\n",
      "Accuracy:  53.6%, Avg loss: 1.29431398\n",
      "Done\n"
     ]
    }
   ],
   "source": [
    "def train(dataloder, model, optimizer, loss_fn):\n",
    "    size = len(dataloder.dataset)\n",
    "    sumloss = 0\n",
    "    for batch, (X, y) in enumerate(dataloder):\n",
    "        X = X.to(device)\n",
    "        y = y.to(device)\n",
    "        # X, y = X.to(device), y.to(device)\n",
    "        pred = model.forward(X)\n",
    "        loss = loss_fn(pred, y)\n",
    "        optimizer.zero_grad()\n",
    "        loss.backward()\n",
    "        optimizer.step()\n",
    "        \n",
    "        sumloss += loss.item()\n",
    "        if batch % 2000 == 1999:\n",
    "            current = (batch + 1) * len(X)\n",
    "            print(f\"loss: {sumloss / 2000:>7f}  [{current:>5d}/{size:>5d}]\")\n",
    "            sumloss = 0\n",
    "        \n",
    "            \n",
    "def test(dataloader, model, loss_fn):\n",
    "    size = len(dataloader.dataset)\n",
    "    num_batches = len(dataloader)\n",
    "    model.eval()\n",
    "    test_loss, correct = 0, 0\n",
    "    with torch.no_grad():\n",
    "        for X, y in dataloader:\n",
    "            X, y = X.to(device), y.to(device)\n",
    "            pred = model(X)\n",
    "            test_loss += loss_fn(pred, y).item()\n",
    "            correct += (pred.argmax(1) == y).type(torch.float).sum().item()\n",
    "    test_loss /= num_batches\n",
    "    correct /= size\n",
    "    print(f\"Accuracy: {(100 * correct): 0.1f}%, Avg loss: {test_loss:.8f}\")\n",
    "    \n",
    "loss_fn = nn.CrossEntropyLoss()\n",
    "optimizer = optim.SGD(net.parameters(), lr=1e-3, momentum=0.9)\n",
    "epoch = 2\n",
    "for i in range(epoch):\n",
    "    print(f\"Epoch{i + 1}\\n--------------------------------\")\n",
    "    train(trainloader, net, optimizer, loss_fn)\n",
    "    test(testloader, net, loss_fn)\n",
    "print(\"Done\")"
   ]
  },
  {
   "cell_type": "code",
   "execution_count": 8,
   "metadata": {},
   "outputs": [
    {
     "name": "stdout",
     "output_type": "stream",
     "text": [
      "2500\n",
      "10000\n"
     ]
    }
   ],
   "source": [
    "print(len(testloader))\n",
    "print(len(testloader.dataset))"
   ]
  },
  {
   "cell_type": "code",
   "execution_count": 9,
   "metadata": {},
   "outputs": [
    {
     "data": {
      "text/plain": [
       "Net(\n",
       "  (conv_relu_maxpool_fc): Sequential(\n",
       "    (0): Conv2d(3, 6, kernel_size=(5, 5), stride=(1, 1))\n",
       "    (1): ReLU()\n",
       "    (2): MaxPool2d(kernel_size=(2, 2), stride=(2, 2), padding=0, dilation=1, ceil_mode=False)\n",
       "    (3): Conv2d(6, 16, kernel_size=(5, 5), stride=(1, 1))\n",
       "    (4): ReLU()\n",
       "    (5): MaxPool2d(kernel_size=(2, 2), stride=(2, 2), padding=0, dilation=1, ceil_mode=False)\n",
       "    (6): Flatten(start_dim=1, end_dim=-1)\n",
       "    (7): Linear(in_features=400, out_features=120, bias=True)\n",
       "    (8): ReLU()\n",
       "    (9): Linear(in_features=120, out_features=84, bias=True)\n",
       "    (10): ReLU()\n",
       "    (11): Linear(in_features=84, out_features=10, bias=True)\n",
       "  )\n",
       ")"
      ]
     },
     "execution_count": 9,
     "metadata": {},
     "output_type": "execute_result"
    }
   ],
   "source": [
    "net.eval()"
   ]
  },
  {
   "cell_type": "code",
   "execution_count": 10,
   "metadata": {},
   "outputs": [
    {
     "name": "stdout",
     "output_type": "stream",
     "text": [
      "Net(\n",
      "  (conv_relu_maxpool_fc): Sequential(\n",
      "    (0): Conv2d(3, 6, kernel_size=(5, 5), stride=(1, 1))\n",
      "    (1): ReLU()\n",
      "    (2): MaxPool2d(kernel_size=(2, 2), stride=(2, 2), padding=0, dilation=1, ceil_mode=False)\n",
      "    (3): Conv2d(6, 16, kernel_size=(5, 5), stride=(1, 1))\n",
      "    (4): ReLU()\n",
      "    (5): MaxPool2d(kernel_size=(2, 2), stride=(2, 2), padding=0, dilation=1, ceil_mode=False)\n",
      "    (6): Flatten(start_dim=1, end_dim=-1)\n",
      "    (7): Linear(in_features=400, out_features=120, bias=True)\n",
      "    (8): ReLU()\n",
      "    (9): Linear(in_features=120, out_features=84, bias=True)\n",
      "    (10): ReLU()\n",
      "    (11): Linear(in_features=84, out_features=10, bias=True)\n",
      "  )\n",
      ")\n"
     ]
    }
   ],
   "source": [
    "print(net)"
   ]
  },
  {
   "cell_type": "code",
   "execution_count": 11,
   "metadata": {},
   "outputs": [
    {
     "name": "stdout",
     "output_type": "stream",
     "text": [
      "tensor([[[1., 1., 1., 1., 1.],\n",
      "         [1., 1., 1., 1., 1.],\n",
      "         [1., 1., 1., 1., 1.],\n",
      "         [1., 1., 1., 1., 1.]],\n",
      "\n",
      "        [[1., 1., 1., 1., 1.],\n",
      "         [1., 1., 1., 1., 1.],\n",
      "         [1., 1., 1., 1., 1.],\n",
      "         [1., 1., 1., 1., 1.]],\n",
      "\n",
      "        [[1., 1., 1., 1., 1.],\n",
      "         [1., 1., 1., 1., 1.],\n",
      "         [1., 1., 1., 1., 1.],\n",
      "         [1., 1., 1., 1., 1.]]])\n",
      "3\n"
     ]
    }
   ],
   "source": [
    "a = torch.ones(3, 4, 5)\n",
    "print(a)\n",
    "print(len(a))"
   ]
  },
  {
   "cell_type": "code",
   "execution_count": 12,
   "metadata": {},
   "outputs": [
    {
     "name": "stdout",
     "output_type": "stream",
     "text": [
      "torch.Size([4, 3, 32, 32]) torch.Size([4])\n"
     ]
    }
   ],
   "source": [
    "for X,y in testloader:\n",
    "    print(X.size(), y.size())\n",
    "    break"
   ]
  },
  {
   "cell_type": "code",
   "execution_count": 13,
   "metadata": {},
   "outputs": [],
   "source": [
    "a = torch.tensor([[1, 2, 3, 4],[3, 4, 5, 6]])"
   ]
  },
  {
   "cell_type": "code",
   "execution_count": 14,
   "metadata": {},
   "outputs": [
    {
     "data": {
      "text/plain": [
       "torch.Size([2, 4])"
      ]
     },
     "execution_count": 14,
     "metadata": {},
     "output_type": "execute_result"
    }
   ],
   "source": [
    "a.size()"
   ]
  },
  {
   "cell_type": "code",
   "execution_count": 15,
   "metadata": {},
   "outputs": [
    {
     "data": {
      "text/plain": [
       "torch.return_types.max(\n",
       "values=tensor([4, 6]),\n",
       "indices=tensor([3, 3]))"
      ]
     },
     "execution_count": 15,
     "metadata": {},
     "output_type": "execute_result"
    }
   ],
   "source": [
    "a.max(1)"
   ]
  },
  {
   "cell_type": "code",
   "execution_count": 16,
   "metadata": {},
   "outputs": [
    {
     "data": {
      "text/plain": [
       "True"
      ]
     },
     "execution_count": 16,
     "metadata": {},
     "output_type": "execute_result"
    }
   ],
   "source": [
    "a = torch.tensor(1)\n",
    "b = torch.tensor(1)\n",
    "a.equal(b)"
   ]
  }
 ],
 "metadata": {
  "interpreter": {
   "hash": "cf151ee0d5d4bd6519c08d7976dcef72e9a178a9dc773adc57d522f57ddd0fc2"
  },
  "kernelspec": {
   "display_name": "Python 3.8.0 64-bit ('py38': conda)",
   "language": "python",
   "name": "python3"
  },
  "language_info": {
   "codemirror_mode": {
    "name": "ipython",
    "version": 3
   },
   "file_extension": ".py",
   "mimetype": "text/x-python",
   "name": "python",
   "nbconvert_exporter": "python",
   "pygments_lexer": "ipython3",
   "version": "3.8.0"
  },
  "orig_nbformat": 4
 },
 "nbformat": 4,
 "nbformat_minor": 2
}
